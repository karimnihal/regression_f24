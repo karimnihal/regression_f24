{
 "cells": [
  {
   "cell_type": "code",
   "execution_count": 4,
   "metadata": {},
   "outputs": [
    {
     "name": "stdout",
     "output_type": "stream",
     "text": [
      "   movie_id    movie_title  tomatometer_rating  audience_rating\n",
      "0     17401   Willow Creek                81.0             34.0\n",
      "1      4775        Colonia                26.0             61.0\n",
      "2     13218  She's the Man                43.0             79.0\n",
      "3     10539         Mongol                86.0             76.0\n",
      "4      8462           I.Q.                44.0             47.0\n"
     ]
    }
   ],
   "source": [
    "import pandas as pd\n",
    "from plotnine import ggplot, aes, geom_point, geom_smooth, labs, geom_segment\n",
    "import numpy as np\n",
    "from sklearn.linear_model import LinearRegression\n",
    "\n",
    "# Read CSV file\n",
    "ratings = pd.read_csv(\"../data/movieratings.csv\")\n",
    "\n",
    "# Display the first few rows\n",
    "print(ratings.head())"
   ]
  },
  {
   "cell_type": "code",
   "execution_count": 5,
   "metadata": {},
   "outputs": [
    {
     "name": "stdout",
     "output_type": "stream",
     "text": [
      "     movie_id                          movie_title  tomatometer_rating  \\\n",
      "45       9326  Le Deuxième souffle (Second Breath)                 NaN   \n",
      "52      15191                             The Hunt                83.0   \n",
      "103     17532   The World, the Flesh and the Devil                 NaN   \n",
      "\n",
      "     audience_rating  \n",
      "45              67.0  \n",
      "52               NaN  \n",
      "103             67.0  \n"
     ]
    }
   ],
   "source": [
    "complete_index = ratings.notnull().all(axis=1) #not null entries in all columns (axis = 1)\n",
    "\n",
    "print(ratings[~complete_index]) #~ is a negation operator  – switches True to False and vice versa\n",
    "\n",
    "ratings_complete = ratings[complete_index].copy() #use copy to allow changes to DataFrame later on without modifying the original df\n"
   ]
  },
  {
   "cell_type": "code",
   "execution_count": 6,
   "metadata": {},
   "outputs": [],
   "source": [
    "# Fit linear model\n",
    "X = ratings_complete[['tomatometer_rating']]\n",
    "y = ratings_complete[['audience_rating']]\n",
    "model = LinearRegression().fit(X, y)"
   ]
  },
  {
   "cell_type": "code",
   "execution_count": 7,
   "metadata": {},
   "outputs": [
    {
     "name": "stdout",
     "output_type": "stream",
     "text": [
      "Slope: [0.4460597], Intercept: [34.50894913]\n"
     ]
    }
   ],
   "source": [
    "# Linear model summary\n",
    "slope = model.coef_[0]\n",
    "intercept = model.intercept_\n",
    "print(f\"Slope: {slope}, Intercept: {intercept}\")"
   ]
  },
  {
   "cell_type": "code",
   "execution_count": 9,
   "metadata": {},
   "outputs": [
    {
     "name": "stdout",
     "output_type": "stream",
     "text": [
      "Predicted audience rating for Borderlands based on critic rating of 8: [38.07742671]\n",
      "Predicted audience rating for A Quiet Place based on critic rating of 86: [72.87008307]\n"
     ]
    }
   ],
   "source": [
    "borderlands = 8\n",
    "aqp = 86\n",
    "\n",
    "borderlands_predicted = intercept + slope * borderlands\n",
    "aqp_predicted = intercept + slope * aqp\n",
    "print(f\"Predicted audience rating for Borderlands based on critic rating of {borderlands}: {borderlands_predicted}\")\n",
    "print(f\"Predicted audience rating for A Quiet Place based on critic rating of {aqp}: {aqp_predicted}\")"
   ]
  }
 ],
 "metadata": {
  "kernelspec": {
   "display_name": "base",
   "language": "python",
   "name": "python3"
  },
  "language_info": {
   "codemirror_mode": {
    "name": "ipython",
    "version": 3
   },
   "file_extension": ".py",
   "mimetype": "text/x-python",
   "name": "python",
   "nbconvert_exporter": "python",
   "pygments_lexer": "ipython3",
   "version": "3.12.4"
  }
 },
 "nbformat": 4,
 "nbformat_minor": 2
}
